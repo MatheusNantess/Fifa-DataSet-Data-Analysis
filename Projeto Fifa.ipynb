{
 "cells": [
  {
   "cell_type": "code",
   "execution_count": null,
   "metadata": {},
   "outputs": [],
   "source": []
  },
  {
   "cell_type": "code",
   "execution_count": 192,
   "metadata": {},
   "outputs": [],
   "source": [
    "import pandas as pd\n",
    "import seaborn as sns\n",
    "import numpy as np\n",
    "import os \n",
    "new_directory = 'C:/Users/mathe/OneDrive/Pictures/Python/CsvExcelFiles'\n",
    "os.chdir(new_directory)\n"
   ]
  },
  {
   "cell_type": "code",
   "execution_count": 193,
   "metadata": {},
   "outputs": [
    {
     "data": {
      "text/html": [
       "<div>\n",
       "<style scoped>\n",
       "    .dataframe tbody tr th:only-of-type {\n",
       "        vertical-align: middle;\n",
       "    }\n",
       "\n",
       "    .dataframe tbody tr th {\n",
       "        vertical-align: top;\n",
       "    }\n",
       "\n",
       "    .dataframe thead th {\n",
       "        text-align: right;\n",
       "    }\n",
       "</style>\n",
       "<table border=\"1\" class=\"dataframe\">\n",
       "  <thead>\n",
       "    <tr style=\"text-align: right;\">\n",
       "      <th></th>\n",
       "      <th>sofifa_id</th>\n",
       "      <th>player_url</th>\n",
       "      <th>short_name</th>\n",
       "      <th>long_name</th>\n",
       "      <th>age</th>\n",
       "      <th>dob</th>\n",
       "      <th>height_cm</th>\n",
       "      <th>weight_kg</th>\n",
       "      <th>nationality</th>\n",
       "      <th>club_name</th>\n",
       "      <th>...</th>\n",
       "      <th>lwb</th>\n",
       "      <th>ldm</th>\n",
       "      <th>cdm</th>\n",
       "      <th>rdm</th>\n",
       "      <th>rwb</th>\n",
       "      <th>lb</th>\n",
       "      <th>lcb</th>\n",
       "      <th>cb</th>\n",
       "      <th>rcb</th>\n",
       "      <th>rb</th>\n",
       "    </tr>\n",
       "  </thead>\n",
       "  <tbody>\n",
       "    <tr>\n",
       "      <th>0</th>\n",
       "      <td>158023</td>\n",
       "      <td>https://sofifa.com/player/158023/lionel-messi/...</td>\n",
       "      <td>L. Messi</td>\n",
       "      <td>Lionel Andrés Messi Cuccittini</td>\n",
       "      <td>33</td>\n",
       "      <td>1987-06-24</td>\n",
       "      <td>170</td>\n",
       "      <td>72</td>\n",
       "      <td>Argentina</td>\n",
       "      <td>FC Barcelona</td>\n",
       "      <td>...</td>\n",
       "      <td>66+3</td>\n",
       "      <td>65+3</td>\n",
       "      <td>65+3</td>\n",
       "      <td>65+3</td>\n",
       "      <td>66+3</td>\n",
       "      <td>62+3</td>\n",
       "      <td>52+3</td>\n",
       "      <td>52+3</td>\n",
       "      <td>52+3</td>\n",
       "      <td>62+3</td>\n",
       "    </tr>\n",
       "    <tr>\n",
       "      <th>1</th>\n",
       "      <td>20801</td>\n",
       "      <td>https://sofifa.com/player/20801/c-ronaldo-dos-...</td>\n",
       "      <td>Cristiano Ronaldo</td>\n",
       "      <td>Cristiano Ronaldo dos Santos Aveiro</td>\n",
       "      <td>35</td>\n",
       "      <td>1985-02-05</td>\n",
       "      <td>187</td>\n",
       "      <td>83</td>\n",
       "      <td>Portugal</td>\n",
       "      <td>Juventus</td>\n",
       "      <td>...</td>\n",
       "      <td>65+3</td>\n",
       "      <td>61+3</td>\n",
       "      <td>61+3</td>\n",
       "      <td>61+3</td>\n",
       "      <td>65+3</td>\n",
       "      <td>61+3</td>\n",
       "      <td>54+3</td>\n",
       "      <td>54+3</td>\n",
       "      <td>54+3</td>\n",
       "      <td>61+3</td>\n",
       "    </tr>\n",
       "    <tr>\n",
       "      <th>2</th>\n",
       "      <td>200389</td>\n",
       "      <td>https://sofifa.com/player/200389/jan-oblak/210002</td>\n",
       "      <td>J. Oblak</td>\n",
       "      <td>Jan Oblak</td>\n",
       "      <td>27</td>\n",
       "      <td>1993-01-07</td>\n",
       "      <td>188</td>\n",
       "      <td>87</td>\n",
       "      <td>Slovenia</td>\n",
       "      <td>Atlético Madrid</td>\n",
       "      <td>...</td>\n",
       "      <td>32+3</td>\n",
       "      <td>36+3</td>\n",
       "      <td>36+3</td>\n",
       "      <td>36+3</td>\n",
       "      <td>32+3</td>\n",
       "      <td>32+3</td>\n",
       "      <td>33+3</td>\n",
       "      <td>33+3</td>\n",
       "      <td>33+3</td>\n",
       "      <td>32+3</td>\n",
       "    </tr>\n",
       "    <tr>\n",
       "      <th>3</th>\n",
       "      <td>188545</td>\n",
       "      <td>https://sofifa.com/player/188545/robert-lewand...</td>\n",
       "      <td>R. Lewandowski</td>\n",
       "      <td>Robert Lewandowski</td>\n",
       "      <td>31</td>\n",
       "      <td>1988-08-21</td>\n",
       "      <td>184</td>\n",
       "      <td>80</td>\n",
       "      <td>Poland</td>\n",
       "      <td>FC Bayern München</td>\n",
       "      <td>...</td>\n",
       "      <td>64+3</td>\n",
       "      <td>65+3</td>\n",
       "      <td>65+3</td>\n",
       "      <td>65+3</td>\n",
       "      <td>64+3</td>\n",
       "      <td>61+3</td>\n",
       "      <td>60+3</td>\n",
       "      <td>60+3</td>\n",
       "      <td>60+3</td>\n",
       "      <td>61+3</td>\n",
       "    </tr>\n",
       "    <tr>\n",
       "      <th>4</th>\n",
       "      <td>190871</td>\n",
       "      <td>https://sofifa.com/player/190871/neymar-da-sil...</td>\n",
       "      <td>Neymar Jr</td>\n",
       "      <td>Neymar da Silva Santos Júnior</td>\n",
       "      <td>28</td>\n",
       "      <td>1992-02-05</td>\n",
       "      <td>175</td>\n",
       "      <td>68</td>\n",
       "      <td>Brazil</td>\n",
       "      <td>Paris Saint-Germain</td>\n",
       "      <td>...</td>\n",
       "      <td>67+3</td>\n",
       "      <td>62+3</td>\n",
       "      <td>62+3</td>\n",
       "      <td>62+3</td>\n",
       "      <td>67+3</td>\n",
       "      <td>62+3</td>\n",
       "      <td>49+3</td>\n",
       "      <td>49+3</td>\n",
       "      <td>49+3</td>\n",
       "      <td>62+3</td>\n",
       "    </tr>\n",
       "    <tr>\n",
       "      <th>5</th>\n",
       "      <td>192985</td>\n",
       "      <td>https://sofifa.com/player/192985/kevin-de-bruy...</td>\n",
       "      <td>K. De Bruyne</td>\n",
       "      <td>Kevin De Bruyne</td>\n",
       "      <td>29</td>\n",
       "      <td>1991-06-28</td>\n",
       "      <td>181</td>\n",
       "      <td>70</td>\n",
       "      <td>Belgium</td>\n",
       "      <td>Manchester City</td>\n",
       "      <td>...</td>\n",
       "      <td>79+3</td>\n",
       "      <td>80+3</td>\n",
       "      <td>80+3</td>\n",
       "      <td>80+3</td>\n",
       "      <td>79+3</td>\n",
       "      <td>75+3</td>\n",
       "      <td>69+3</td>\n",
       "      <td>69+3</td>\n",
       "      <td>69+3</td>\n",
       "      <td>75+3</td>\n",
       "    </tr>\n",
       "    <tr>\n",
       "      <th>6</th>\n",
       "      <td>231747</td>\n",
       "      <td>https://sofifa.com/player/231747/kylian-mbappe...</td>\n",
       "      <td>K. Mbappé</td>\n",
       "      <td>Kylian Mbappé Lottin</td>\n",
       "      <td>21</td>\n",
       "      <td>1998-12-20</td>\n",
       "      <td>178</td>\n",
       "      <td>73</td>\n",
       "      <td>France</td>\n",
       "      <td>Paris Saint-Germain</td>\n",
       "      <td>...</td>\n",
       "      <td>67+3</td>\n",
       "      <td>63+3</td>\n",
       "      <td>63+3</td>\n",
       "      <td>63+3</td>\n",
       "      <td>67+3</td>\n",
       "      <td>63+3</td>\n",
       "      <td>55+3</td>\n",
       "      <td>55+3</td>\n",
       "      <td>55+3</td>\n",
       "      <td>63+3</td>\n",
       "    </tr>\n",
       "    <tr>\n",
       "      <th>7</th>\n",
       "      <td>192448</td>\n",
       "      <td>https://sofifa.com/player/192448/marc-andre-te...</td>\n",
       "      <td>M. ter Stegen</td>\n",
       "      <td>Marc-André ter Stegen</td>\n",
       "      <td>28</td>\n",
       "      <td>1992-04-30</td>\n",
       "      <td>187</td>\n",
       "      <td>85</td>\n",
       "      <td>Germany</td>\n",
       "      <td>FC Barcelona</td>\n",
       "      <td>...</td>\n",
       "      <td>33+3</td>\n",
       "      <td>41+3</td>\n",
       "      <td>41+3</td>\n",
       "      <td>41+3</td>\n",
       "      <td>33+3</td>\n",
       "      <td>31+3</td>\n",
       "      <td>33+3</td>\n",
       "      <td>33+3</td>\n",
       "      <td>33+3</td>\n",
       "      <td>31+3</td>\n",
       "    </tr>\n",
       "    <tr>\n",
       "      <th>8</th>\n",
       "      <td>203376</td>\n",
       "      <td>https://sofifa.com/player/203376/virgil-van-di...</td>\n",
       "      <td>V. van Dijk</td>\n",
       "      <td>Virgil van Dijk</td>\n",
       "      <td>28</td>\n",
       "      <td>1991-07-08</td>\n",
       "      <td>193</td>\n",
       "      <td>92</td>\n",
       "      <td>Netherlands</td>\n",
       "      <td>Liverpool</td>\n",
       "      <td>...</td>\n",
       "      <td>80+3</td>\n",
       "      <td>85+3</td>\n",
       "      <td>85+3</td>\n",
       "      <td>85+3</td>\n",
       "      <td>80+3</td>\n",
       "      <td>82+3</td>\n",
       "      <td>89+2</td>\n",
       "      <td>89+2</td>\n",
       "      <td>89+2</td>\n",
       "      <td>82+3</td>\n",
       "    </tr>\n",
       "    <tr>\n",
       "      <th>9</th>\n",
       "      <td>212831</td>\n",
       "      <td>https://sofifa.com/player/212831/alisson-ramse...</td>\n",
       "      <td>Alisson</td>\n",
       "      <td>Alisson Ramsés Becker</td>\n",
       "      <td>27</td>\n",
       "      <td>1992-10-02</td>\n",
       "      <td>191</td>\n",
       "      <td>91</td>\n",
       "      <td>Brazil</td>\n",
       "      <td>Liverpool</td>\n",
       "      <td>...</td>\n",
       "      <td>31+3</td>\n",
       "      <td>35+3</td>\n",
       "      <td>35+3</td>\n",
       "      <td>35+3</td>\n",
       "      <td>31+3</td>\n",
       "      <td>30+3</td>\n",
       "      <td>30+3</td>\n",
       "      <td>30+3</td>\n",
       "      <td>30+3</td>\n",
       "      <td>30+3</td>\n",
       "    </tr>\n",
       "  </tbody>\n",
       "</table>\n",
       "<p>10 rows × 106 columns</p>\n",
       "</div>"
      ],
      "text/plain": [
       "   sofifa_id                                         player_url  \\\n",
       "0     158023  https://sofifa.com/player/158023/lionel-messi/...   \n",
       "1      20801  https://sofifa.com/player/20801/c-ronaldo-dos-...   \n",
       "2     200389  https://sofifa.com/player/200389/jan-oblak/210002   \n",
       "3     188545  https://sofifa.com/player/188545/robert-lewand...   \n",
       "4     190871  https://sofifa.com/player/190871/neymar-da-sil...   \n",
       "5     192985  https://sofifa.com/player/192985/kevin-de-bruy...   \n",
       "6     231747  https://sofifa.com/player/231747/kylian-mbappe...   \n",
       "7     192448  https://sofifa.com/player/192448/marc-andre-te...   \n",
       "8     203376  https://sofifa.com/player/203376/virgil-van-di...   \n",
       "9     212831  https://sofifa.com/player/212831/alisson-ramse...   \n",
       "\n",
       "          short_name                            long_name  age         dob  \\\n",
       "0           L. Messi       Lionel Andrés Messi Cuccittini   33  1987-06-24   \n",
       "1  Cristiano Ronaldo  Cristiano Ronaldo dos Santos Aveiro   35  1985-02-05   \n",
       "2           J. Oblak                            Jan Oblak   27  1993-01-07   \n",
       "3     R. Lewandowski                   Robert Lewandowski   31  1988-08-21   \n",
       "4          Neymar Jr        Neymar da Silva Santos Júnior   28  1992-02-05   \n",
       "5       K. De Bruyne                      Kevin De Bruyne   29  1991-06-28   \n",
       "6          K. Mbappé                 Kylian Mbappé Lottin   21  1998-12-20   \n",
       "7      M. ter Stegen                Marc-André ter Stegen   28  1992-04-30   \n",
       "8        V. van Dijk                      Virgil van Dijk   28  1991-07-08   \n",
       "9            Alisson                Alisson Ramsés Becker   27  1992-10-02   \n",
       "\n",
       "   height_cm  weight_kg  nationality            club_name  ...   lwb   ldm  \\\n",
       "0        170         72    Argentina         FC Barcelona  ...  66+3  65+3   \n",
       "1        187         83     Portugal             Juventus  ...  65+3  61+3   \n",
       "2        188         87     Slovenia      Atlético Madrid  ...  32+3  36+3   \n",
       "3        184         80       Poland    FC Bayern München  ...  64+3  65+3   \n",
       "4        175         68       Brazil  Paris Saint-Germain  ...  67+3  62+3   \n",
       "5        181         70      Belgium      Manchester City  ...  79+3  80+3   \n",
       "6        178         73       France  Paris Saint-Germain  ...  67+3  63+3   \n",
       "7        187         85      Germany         FC Barcelona  ...  33+3  41+3   \n",
       "8        193         92  Netherlands            Liverpool  ...  80+3  85+3   \n",
       "9        191         91       Brazil            Liverpool  ...  31+3  35+3   \n",
       "\n",
       "    cdm   rdm   rwb    lb   lcb    cb   rcb    rb  \n",
       "0  65+3  65+3  66+3  62+3  52+3  52+3  52+3  62+3  \n",
       "1  61+3  61+3  65+3  61+3  54+3  54+3  54+3  61+3  \n",
       "2  36+3  36+3  32+3  32+3  33+3  33+3  33+3  32+3  \n",
       "3  65+3  65+3  64+3  61+3  60+3  60+3  60+3  61+3  \n",
       "4  62+3  62+3  67+3  62+3  49+3  49+3  49+3  62+3  \n",
       "5  80+3  80+3  79+3  75+3  69+3  69+3  69+3  75+3  \n",
       "6  63+3  63+3  67+3  63+3  55+3  55+3  55+3  63+3  \n",
       "7  41+3  41+3  33+3  31+3  33+3  33+3  33+3  31+3  \n",
       "8  85+3  85+3  80+3  82+3  89+2  89+2  89+2  82+3  \n",
       "9  35+3  35+3  31+3  30+3  30+3  30+3  30+3  30+3  \n",
       "\n",
       "[10 rows x 106 columns]"
      ]
     },
     "execution_count": 193,
     "metadata": {},
     "output_type": "execute_result"
    }
   ],
   "source": [
    "df = pd.read_csv('players_21.csv')\n",
    "df.head(10)"
   ]
  },
  {
   "cell_type": "markdown",
   "metadata": {},
   "source": [
    "** Do the height and weight column have the appropriate data types??"
   ]
  },
  {
   "cell_type": "code",
   "execution_count": 194,
   "metadata": {},
   "outputs": [
    {
     "data": {
      "text/plain": [
       "0        72\n",
       "1        83\n",
       "2        87\n",
       "3        80\n",
       "4        68\n",
       "         ..\n",
       "18939    73\n",
       "18940    70\n",
       "18941    74\n",
       "18942    80\n",
       "18943    79\n",
       "Name: weight_kg, Length: 18944, dtype: int64"
      ]
     },
     "execution_count": 194,
     "metadata": {},
     "output_type": "execute_result"
    }
   ],
   "source": [
    "##Here i am veryfing if weight column is in the correct dtype\n",
    "df['weight_kg']"
   ]
  },
  {
   "cell_type": "code",
   "execution_count": 195,
   "metadata": {},
   "outputs": [
    {
     "data": {
      "text/plain": [
       "0        170\n",
       "1        187\n",
       "2        188\n",
       "3        184\n",
       "4        175\n",
       "        ... \n",
       "18939    176\n",
       "18940    177\n",
       "18941    185\n",
       "18942    186\n",
       "18943    185\n",
       "Name: height_cm, Length: 18944, dtype: int64"
      ]
     },
     "execution_count": 195,
     "metadata": {},
     "output_type": "execute_result"
    }
   ],
   "source": [
    "##here i am veryfing if height column has to correct dtype\n",
    "df['height_cm']"
   ]
  },
  {
   "cell_type": "markdown",
   "metadata": {},
   "source": [
    "** Can you separate the 'joined' column into year, month and day columns??"
   ]
  },
  {
   "cell_type": "code",
   "execution_count": 270,
   "metadata": {},
   "outputs": [
    {
     "data": {
      "text/plain": [
       "dtype('<M8[ns]')"
      ]
     },
     "execution_count": 270,
     "metadata": {},
     "output_type": "execute_result"
    }
   ],
   "source": [
    "#i will create 3 new columns named Year, Month and Day,\n",
    "# and to make this easier i converted the dtype from object to datetime.\n",
    "\n",
    "df['joined'] = df['joined'].apply(lambda x: pd.to_datetime(x))\n",
    "df['joined'].dtype\n"
   ]
  },
  {
   "cell_type": "code",
   "execution_count": null,
   "metadata": {},
   "outputs": [
    {
     "data": {
      "text/plain": [
       "0        2004.0\n",
       "1        2018.0\n",
       "2        2014.0\n",
       "3        2014.0\n",
       "4        2017.0\n",
       "          ...  \n",
       "18939    2020.0\n",
       "18940    2020.0\n",
       "18941    2019.0\n",
       "18942    2020.0\n",
       "18943    2020.0\n",
       "Name: Year, Length: 18944, dtype: float64"
      ]
     },
     "execution_count": 173,
     "metadata": {},
     "output_type": "execute_result"
    }
   ],
   "source": [
    "#creating the new column putting only the year from \"joined\"\n",
    "#i could have done this with lambda function and apply as well\n",
    "df['Year'] = df['joined'].dt.year\n",
    "df['Year']"
   ]
  },
  {
   "cell_type": "code",
   "execution_count": null,
   "metadata": {},
   "outputs": [
    {
     "data": {
      "text/plain": [
       "0        7.0\n",
       "1        7.0\n",
       "2        7.0\n",
       "3        7.0\n",
       "4        8.0\n",
       "        ... \n",
       "18939    1.0\n",
       "18940    8.0\n",
       "18941    2.0\n",
       "18942    8.0\n",
       "18943    8.0\n",
       "Name: Month, Length: 18944, dtype: float64"
      ]
     },
     "execution_count": 174,
     "metadata": {},
     "output_type": "execute_result"
    }
   ],
   "source": [
    "#Creating the month column based in the joined column\n",
    "#i could have done this with lambda function and apply as well\n",
    "df['Month'] = df['joined'].dt.month\n",
    "df['Month']"
   ]
  },
  {
   "cell_type": "code",
   "execution_count": null,
   "metadata": {},
   "outputs": [
    {
     "data": {
      "text/plain": [
       "0        3.0\n",
       "1        1.0\n",
       "2        2.0\n",
       "3        1.0\n",
       "4        3.0\n",
       "        ... \n",
       "18939    2.0\n",
       "18940    5.0\n",
       "18941    4.0\n",
       "18942    5.0\n",
       "18943    5.0\n",
       "Name: Day Of Week, Length: 18944, dtype: float64"
      ]
     },
     "execution_count": 175,
     "metadata": {},
     "output_type": "execute_result"
    }
   ],
   "source": [
    "#Creating the month column based in the joined column\n",
    "#but in this case I wanted to show the Week days and not floats\n",
    "#so I will manage that \n",
    "df['Day Of Week'] = df['joined'].dt.dayofweek\n",
    "df['Day Of Week']\n",
    "\n"
   ]
  },
  {
   "cell_type": "code",
   "execution_count": null,
   "metadata": {},
   "outputs": [
    {
     "data": {
      "text/plain": [
       "0         Thursday\n",
       "1          Tuesday\n",
       "2        Wednesday\n",
       "3          Tuesday\n",
       "4         Thursday\n",
       "           ...    \n",
       "18939    Wednesday\n",
       "18940     Saturday\n",
       "18941       Friday\n",
       "18942     Saturday\n",
       "18943     Saturday\n",
       "Name: Day of Week, Length: 18944, dtype: object"
      ]
     },
     "execution_count": 176,
     "metadata": {},
     "output_type": "execute_result"
    }
   ],
   "source": [
    "#now i will transform all integers in day of week using map and a dict\n",
    "dm = {0.0: 'Monday', 1.0: 'Tuesday', 2.0: 'Wednesday', 3.0: 'Thursday', 4.0: 'Friday', 5.0: 'Saturday', 6.0: 'Sunday'}\n",
    "df['Day of Week'] = df['Day Of Week'].map(dm)\n",
    "df['Day of Week']"
   ]
  },
  {
   "cell_type": "markdown",
   "metadata": {},
   "source": [
    "Can you clean the value, wage and release clause column into column of integers??"
   ]
  },
  {
   "cell_type": "code",
   "execution_count": null,
   "metadata": {},
   "outputs": [
    {
     "data": {
      "text/plain": [
       "0"
      ]
     },
     "execution_count": 177,
     "metadata": {},
     "output_type": "execute_result"
    }
   ],
   "source": [
    "#veryfing if the is any absent values in column wage_eur\n",
    "df['wage_eur'].isnull().sum()\n"
   ]
  },
  {
   "cell_type": "code",
   "execution_count": null,
   "metadata": {},
   "outputs": [
    {
     "data": {
      "text/plain": [
       "0        560000\n",
       "1        220000\n",
       "2        125000\n",
       "3        240000\n",
       "4        270000\n",
       "          ...  \n",
       "18939       500\n",
       "18940      1000\n",
       "18941      1000\n",
       "18942      1000\n",
       "18943      2000\n",
       "Name: wage_eur, Length: 18944, dtype: int64"
      ]
     },
     "execution_count": 178,
     "metadata": {},
     "output_type": "execute_result"
    }
   ],
   "source": [
    "#now i will check the datype in this column\n",
    "df['wage_eur'].dtype\n",
    "df['wage_eur']\n",
    "#there is nothing more to do here"
   ]
  },
  {
   "cell_type": "code",
   "execution_count": null,
   "metadata": {},
   "outputs": [
    {
     "data": {
      "text/plain": [
       "995"
      ]
     },
     "execution_count": 179,
     "metadata": {},
     "output_type": "execute_result"
    }
   ],
   "source": [
    "#veryfing if there is any absent value in release clause column\n",
    "df['release_clause_eur'].isnull().sum()\n"
   ]
  },
  {
   "cell_type": "code",
   "execution_count": null,
   "metadata": {},
   "outputs": [],
   "source": [
    "#filling the absent values by 0\n",
    "df['release_clause_eur'].fillna(0, inplace=True)"
   ]
  },
  {
   "cell_type": "code",
   "execution_count": null,
   "metadata": {},
   "outputs": [
    {
     "data": {
      "text/plain": [
       "dtype('int64')"
      ]
     },
     "execution_count": 181,
     "metadata": {},
     "output_type": "execute_result"
    }
   ],
   "source": [
    "#finally i will convert the dtype of float into integer\n",
    "df['release_clause_eur'] = df['release_clause_eur'].apply(lambda x: int(x))\n",
    "df['release_clause_eur'].dtype\n"
   ]
  },
  {
   "cell_type": "code",
   "execution_count": null,
   "metadata": {},
   "outputs": [
    {
     "data": {
      "text/plain": [
       "0"
      ]
     },
     "execution_count": 182,
     "metadata": {},
     "output_type": "execute_result"
    }
   ],
   "source": [
    "#last column value. verify if there is absent values\n",
    "df['value_eur'].isnull().sum()\n",
    "\n"
   ]
  },
  {
   "cell_type": "code",
   "execution_count": null,
   "metadata": {},
   "outputs": [
    {
     "data": {
      "text/plain": [
       "dtype('int64')"
      ]
     },
     "execution_count": 183,
     "metadata": {},
     "output_type": "execute_result"
    }
   ],
   "source": [
    "# and convert float to integer\n",
    "df['value_eur'] = df['value_eur'].apply(lambda x: int(x))\n",
    "df['value_eur'].dtype"
   ]
  },
  {
   "cell_type": "markdown",
   "metadata": {},
   "source": [
    "what are the most valuable players? and why is that?\n"
   ]
  },
  {
   "cell_type": "code",
   "execution_count": 207,
   "metadata": {},
   "outputs": [
    {
     "data": {
      "text/html": [
       "<div>\n",
       "<style scoped>\n",
       "    .dataframe tbody tr th:only-of-type {\n",
       "        vertical-align: middle;\n",
       "    }\n",
       "\n",
       "    .dataframe tbody tr th {\n",
       "        vertical-align: top;\n",
       "    }\n",
       "\n",
       "    .dataframe thead th {\n",
       "        text-align: right;\n",
       "    }\n",
       "</style>\n",
       "<table border=\"1\" class=\"dataframe\">\n",
       "  <thead>\n",
       "    <tr style=\"text-align: right;\">\n",
       "      <th></th>\n",
       "      <th>sofifa_id</th>\n",
       "      <th>player_url</th>\n",
       "      <th>short_name</th>\n",
       "      <th>long_name</th>\n",
       "      <th>age</th>\n",
       "      <th>dob</th>\n",
       "      <th>height_cm</th>\n",
       "      <th>weight_kg</th>\n",
       "      <th>nationality</th>\n",
       "      <th>club_name</th>\n",
       "      <th>...</th>\n",
       "      <th>lwb</th>\n",
       "      <th>ldm</th>\n",
       "      <th>cdm</th>\n",
       "      <th>rdm</th>\n",
       "      <th>rwb</th>\n",
       "      <th>lb</th>\n",
       "      <th>lcb</th>\n",
       "      <th>cb</th>\n",
       "      <th>rcb</th>\n",
       "      <th>rb</th>\n",
       "    </tr>\n",
       "  </thead>\n",
       "  <tbody>\n",
       "    <tr>\n",
       "      <th>6</th>\n",
       "      <td>231747</td>\n",
       "      <td>https://sofifa.com/player/231747/kylian-mbappe...</td>\n",
       "      <td>K. Mbappé</td>\n",
       "      <td>Kylian Mbappé Lottin</td>\n",
       "      <td>21</td>\n",
       "      <td>1998-12-20</td>\n",
       "      <td>178</td>\n",
       "      <td>73</td>\n",
       "      <td>France</td>\n",
       "      <td>Paris Saint-Germain</td>\n",
       "      <td>...</td>\n",
       "      <td>67+3</td>\n",
       "      <td>63+3</td>\n",
       "      <td>63+3</td>\n",
       "      <td>63+3</td>\n",
       "      <td>67+3</td>\n",
       "      <td>63+3</td>\n",
       "      <td>55+3</td>\n",
       "      <td>55+3</td>\n",
       "      <td>55+3</td>\n",
       "      <td>63+3</td>\n",
       "    </tr>\n",
       "    <tr>\n",
       "      <th>4</th>\n",
       "      <td>190871</td>\n",
       "      <td>https://sofifa.com/player/190871/neymar-da-sil...</td>\n",
       "      <td>Neymar Jr</td>\n",
       "      <td>Neymar da Silva Santos Júnior</td>\n",
       "      <td>28</td>\n",
       "      <td>1992-02-05</td>\n",
       "      <td>175</td>\n",
       "      <td>68</td>\n",
       "      <td>Brazil</td>\n",
       "      <td>Paris Saint-Germain</td>\n",
       "      <td>...</td>\n",
       "      <td>67+3</td>\n",
       "      <td>62+3</td>\n",
       "      <td>62+3</td>\n",
       "      <td>62+3</td>\n",
       "      <td>67+3</td>\n",
       "      <td>62+3</td>\n",
       "      <td>49+3</td>\n",
       "      <td>49+3</td>\n",
       "      <td>49+3</td>\n",
       "      <td>62+3</td>\n",
       "    </tr>\n",
       "    <tr>\n",
       "      <th>5</th>\n",
       "      <td>192985</td>\n",
       "      <td>https://sofifa.com/player/192985/kevin-de-bruy...</td>\n",
       "      <td>K. De Bruyne</td>\n",
       "      <td>Kevin De Bruyne</td>\n",
       "      <td>29</td>\n",
       "      <td>1991-06-28</td>\n",
       "      <td>181</td>\n",
       "      <td>70</td>\n",
       "      <td>Belgium</td>\n",
       "      <td>Manchester City</td>\n",
       "      <td>...</td>\n",
       "      <td>79+3</td>\n",
       "      <td>80+3</td>\n",
       "      <td>80+3</td>\n",
       "      <td>80+3</td>\n",
       "      <td>79+3</td>\n",
       "      <td>75+3</td>\n",
       "      <td>69+3</td>\n",
       "      <td>69+3</td>\n",
       "      <td>69+3</td>\n",
       "      <td>75+3</td>\n",
       "    </tr>\n",
       "    <tr>\n",
       "      <th>3</th>\n",
       "      <td>188545</td>\n",
       "      <td>https://sofifa.com/player/188545/robert-lewand...</td>\n",
       "      <td>R. Lewandowski</td>\n",
       "      <td>Robert Lewandowski</td>\n",
       "      <td>31</td>\n",
       "      <td>1988-08-21</td>\n",
       "      <td>184</td>\n",
       "      <td>80</td>\n",
       "      <td>Poland</td>\n",
       "      <td>FC Bayern München</td>\n",
       "      <td>...</td>\n",
       "      <td>64+3</td>\n",
       "      <td>65+3</td>\n",
       "      <td>65+3</td>\n",
       "      <td>65+3</td>\n",
       "      <td>64+3</td>\n",
       "      <td>61+3</td>\n",
       "      <td>60+3</td>\n",
       "      <td>60+3</td>\n",
       "      <td>60+3</td>\n",
       "      <td>61+3</td>\n",
       "    </tr>\n",
       "    <tr>\n",
       "      <th>10</th>\n",
       "      <td>208722</td>\n",
       "      <td>https://sofifa.com/player/208722/sadio-mane/21...</td>\n",
       "      <td>S. Mané</td>\n",
       "      <td>Sadio Mané</td>\n",
       "      <td>28</td>\n",
       "      <td>1992-04-10</td>\n",
       "      <td>175</td>\n",
       "      <td>69</td>\n",
       "      <td>Senegal</td>\n",
       "      <td>Liverpool</td>\n",
       "      <td>...</td>\n",
       "      <td>69+3</td>\n",
       "      <td>65+3</td>\n",
       "      <td>65+3</td>\n",
       "      <td>65+3</td>\n",
       "      <td>69+3</td>\n",
       "      <td>66+3</td>\n",
       "      <td>59+3</td>\n",
       "      <td>59+3</td>\n",
       "      <td>59+3</td>\n",
       "      <td>66+3</td>\n",
       "    </tr>\n",
       "    <tr>\n",
       "      <th>11</th>\n",
       "      <td>209331</td>\n",
       "      <td>https://sofifa.com/player/209331/mohamed-salah...</td>\n",
       "      <td>M. Salah</td>\n",
       "      <td>Mohamed Salah Ghaly</td>\n",
       "      <td>28</td>\n",
       "      <td>1992-06-15</td>\n",
       "      <td>175</td>\n",
       "      <td>71</td>\n",
       "      <td>Egypt</td>\n",
       "      <td>Liverpool</td>\n",
       "      <td>...</td>\n",
       "      <td>71+3</td>\n",
       "      <td>68+3</td>\n",
       "      <td>68+3</td>\n",
       "      <td>68+3</td>\n",
       "      <td>71+3</td>\n",
       "      <td>67+3</td>\n",
       "      <td>58+3</td>\n",
       "      <td>58+3</td>\n",
       "      <td>58+3</td>\n",
       "      <td>67+3</td>\n",
       "    </tr>\n",
       "    <tr>\n",
       "      <th>8</th>\n",
       "      <td>203376</td>\n",
       "      <td>https://sofifa.com/player/203376/virgil-van-di...</td>\n",
       "      <td>V. van Dijk</td>\n",
       "      <td>Virgil van Dijk</td>\n",
       "      <td>28</td>\n",
       "      <td>1991-07-08</td>\n",
       "      <td>193</td>\n",
       "      <td>92</td>\n",
       "      <td>Netherlands</td>\n",
       "      <td>Liverpool</td>\n",
       "      <td>...</td>\n",
       "      <td>80+3</td>\n",
       "      <td>85+3</td>\n",
       "      <td>85+3</td>\n",
       "      <td>85+3</td>\n",
       "      <td>80+3</td>\n",
       "      <td>82+3</td>\n",
       "      <td>89+2</td>\n",
       "      <td>89+2</td>\n",
       "      <td>89+2</td>\n",
       "      <td>82+3</td>\n",
       "    </tr>\n",
       "    <tr>\n",
       "      <th>2</th>\n",
       "      <td>200389</td>\n",
       "      <td>https://sofifa.com/player/200389/jan-oblak/210002</td>\n",
       "      <td>J. Oblak</td>\n",
       "      <td>Jan Oblak</td>\n",
       "      <td>27</td>\n",
       "      <td>1993-01-07</td>\n",
       "      <td>188</td>\n",
       "      <td>87</td>\n",
       "      <td>Slovenia</td>\n",
       "      <td>Atlético Madrid</td>\n",
       "      <td>...</td>\n",
       "      <td>32+3</td>\n",
       "      <td>36+3</td>\n",
       "      <td>36+3</td>\n",
       "      <td>36+3</td>\n",
       "      <td>32+3</td>\n",
       "      <td>32+3</td>\n",
       "      <td>33+3</td>\n",
       "      <td>33+3</td>\n",
       "      <td>33+3</td>\n",
       "      <td>32+3</td>\n",
       "    </tr>\n",
       "    <tr>\n",
       "      <th>19</th>\n",
       "      <td>202652</td>\n",
       "      <td>https://sofifa.com/player/202652/raheem-sterli...</td>\n",
       "      <td>R. Sterling</td>\n",
       "      <td>Raheem Shaquille Sterling</td>\n",
       "      <td>25</td>\n",
       "      <td>1994-12-08</td>\n",
       "      <td>170</td>\n",
       "      <td>69</td>\n",
       "      <td>England</td>\n",
       "      <td>Manchester City</td>\n",
       "      <td>...</td>\n",
       "      <td>69+3</td>\n",
       "      <td>64+3</td>\n",
       "      <td>64+3</td>\n",
       "      <td>64+3</td>\n",
       "      <td>69+3</td>\n",
       "      <td>65+3</td>\n",
       "      <td>55+3</td>\n",
       "      <td>55+3</td>\n",
       "      <td>55+3</td>\n",
       "      <td>65+3</td>\n",
       "    </tr>\n",
       "    <tr>\n",
       "      <th>21</th>\n",
       "      <td>202126</td>\n",
       "      <td>https://sofifa.com/player/202126/harry-kane/21...</td>\n",
       "      <td>H. Kane</td>\n",
       "      <td>Harry Kane</td>\n",
       "      <td>26</td>\n",
       "      <td>1993-07-28</td>\n",
       "      <td>188</td>\n",
       "      <td>89</td>\n",
       "      <td>England</td>\n",
       "      <td>Tottenham Hotspur</td>\n",
       "      <td>...</td>\n",
       "      <td>65+3</td>\n",
       "      <td>66+3</td>\n",
       "      <td>66+3</td>\n",
       "      <td>66+3</td>\n",
       "      <td>65+3</td>\n",
       "      <td>62+3</td>\n",
       "      <td>61+3</td>\n",
       "      <td>61+3</td>\n",
       "      <td>61+3</td>\n",
       "      <td>62+3</td>\n",
       "    </tr>\n",
       "  </tbody>\n",
       "</table>\n",
       "<p>10 rows × 106 columns</p>\n",
       "</div>"
      ],
      "text/plain": [
       "    sofifa_id                                         player_url  \\\n",
       "6      231747  https://sofifa.com/player/231747/kylian-mbappe...   \n",
       "4      190871  https://sofifa.com/player/190871/neymar-da-sil...   \n",
       "5      192985  https://sofifa.com/player/192985/kevin-de-bruy...   \n",
       "3      188545  https://sofifa.com/player/188545/robert-lewand...   \n",
       "10     208722  https://sofifa.com/player/208722/sadio-mane/21...   \n",
       "11     209331  https://sofifa.com/player/209331/mohamed-salah...   \n",
       "8      203376  https://sofifa.com/player/203376/virgil-van-di...   \n",
       "2      200389  https://sofifa.com/player/200389/jan-oblak/210002   \n",
       "19     202652  https://sofifa.com/player/202652/raheem-sterli...   \n",
       "21     202126  https://sofifa.com/player/202126/harry-kane/21...   \n",
       "\n",
       "        short_name                      long_name  age         dob  height_cm  \\\n",
       "6        K. Mbappé           Kylian Mbappé Lottin   21  1998-12-20        178   \n",
       "4        Neymar Jr  Neymar da Silva Santos Júnior   28  1992-02-05        175   \n",
       "5     K. De Bruyne                Kevin De Bruyne   29  1991-06-28        181   \n",
       "3   R. Lewandowski             Robert Lewandowski   31  1988-08-21        184   \n",
       "10         S. Mané                     Sadio Mané   28  1992-04-10        175   \n",
       "11        M. Salah            Mohamed Salah Ghaly   28  1992-06-15        175   \n",
       "8      V. van Dijk                Virgil van Dijk   28  1991-07-08        193   \n",
       "2         J. Oblak                      Jan Oblak   27  1993-01-07        188   \n",
       "19     R. Sterling      Raheem Shaquille Sterling   25  1994-12-08        170   \n",
       "21         H. Kane                     Harry Kane   26  1993-07-28        188   \n",
       "\n",
       "    weight_kg  nationality            club_name  ...   lwb   ldm   cdm   rdm  \\\n",
       "6          73       France  Paris Saint-Germain  ...  67+3  63+3  63+3  63+3   \n",
       "4          68       Brazil  Paris Saint-Germain  ...  67+3  62+3  62+3  62+3   \n",
       "5          70      Belgium      Manchester City  ...  79+3  80+3  80+3  80+3   \n",
       "3          80       Poland    FC Bayern München  ...  64+3  65+3  65+3  65+3   \n",
       "10         69      Senegal            Liverpool  ...  69+3  65+3  65+3  65+3   \n",
       "11         71        Egypt            Liverpool  ...  71+3  68+3  68+3  68+3   \n",
       "8          92  Netherlands            Liverpool  ...  80+3  85+3  85+3  85+3   \n",
       "2          87     Slovenia      Atlético Madrid  ...  32+3  36+3  36+3  36+3   \n",
       "19         69      England      Manchester City  ...  69+3  64+3  64+3  64+3   \n",
       "21         89      England    Tottenham Hotspur  ...  65+3  66+3  66+3  66+3   \n",
       "\n",
       "     rwb    lb   lcb    cb   rcb    rb  \n",
       "6   67+3  63+3  55+3  55+3  55+3  63+3  \n",
       "4   67+3  62+3  49+3  49+3  49+3  62+3  \n",
       "5   79+3  75+3  69+3  69+3  69+3  75+3  \n",
       "3   64+3  61+3  60+3  60+3  60+3  61+3  \n",
       "10  69+3  66+3  59+3  59+3  59+3  66+3  \n",
       "11  71+3  67+3  58+3  58+3  58+3  67+3  \n",
       "8   80+3  82+3  89+2  89+2  89+2  82+3  \n",
       "2   32+3  32+3  33+3  33+3  33+3  32+3  \n",
       "19  69+3  65+3  55+3  55+3  55+3  65+3  \n",
       "21  65+3  62+3  61+3  61+3  61+3  62+3  \n",
       "\n",
       "[10 rows x 106 columns]"
      ]
     },
     "execution_count": 207,
     "metadata": {},
     "output_type": "execute_result"
    }
   ],
   "source": [
    "#to find the most valuable players\n",
    "most_valuable_players = df.sort_values(by='value_eur', ascending=False).head(10)\n",
    "most_valuable_players"
   ]
  },
  {
   "cell_type": "code",
   "execution_count": null,
   "metadata": {},
   "outputs": [
    {
     "data": {
      "image/png": "[encoded data removed]",
      "text/plain": [
       "<Figure size 600x600 with 3 Axes>"
      ]
     },
     "metadata": {},
     "output_type": "display_data"
    }
   ],
   "source": [
    "#graphic visualizing why they are valuable\n",
    "#the giant code is just to give a better view from the plot\n",
    "import matplotlib.pyplot as plt\n",
    "from matplotlib.ticker import FuncFormatter\n",
    "plot = sns.jointplot(x='overall', y='value_eur', data=df, kind='scatter')\n",
    "plot.ax_joint.yaxis.set_major_formatter(FuncFormatter(lambda x, loc: \"{0}M\".format(int(x/1e6))))\n",
    "\n",
    "\n",
    "#as we can realize as we go further on overall, the value of the player goes up as well"
   ]
  },
  {
   "cell_type": "markdown",
   "metadata": {},
   "source": [
    "Can you find the most promising players?"
   ]
  },
  {
   "cell_type": "code",
   "execution_count": null,
   "metadata": {},
   "outputs": [
    {
     "data": {
      "text/html": [
       "<div>\n",
       "<style scoped>\n",
       "    .dataframe tbody tr th:only-of-type {\n",
       "        vertical-align: middle;\n",
       "    }\n",
       "\n",
       "    .dataframe tbody tr th {\n",
       "        vertical-align: top;\n",
       "    }\n",
       "\n",
       "    .dataframe thead th {\n",
       "        text-align: right;\n",
       "    }\n",
       "</style>\n",
       "<table border=\"1\" class=\"dataframe\">\n",
       "  <thead>\n",
       "    <tr style=\"text-align: right;\">\n",
       "      <th></th>\n",
       "      <th>short_name</th>\n",
       "      <th>overall</th>\n",
       "      <th>age</th>\n",
       "      <th>club_name</th>\n",
       "      <th>promising_score</th>\n",
       "    </tr>\n",
       "  </thead>\n",
       "  <tbody>\n",
       "    <tr>\n",
       "      <th>17807</th>\n",
       "      <td>R. Richards</td>\n",
       "      <td>54</td>\n",
       "      <td>16</td>\n",
       "      <td>West Bromwich Albion</td>\n",
       "      <td>26</td>\n",
       "    </tr>\n",
       "    <tr>\n",
       "      <th>14689</th>\n",
       "      <td>B. Arrey-Mbi</td>\n",
       "      <td>60</td>\n",
       "      <td>17</td>\n",
       "      <td>Bayern München II</td>\n",
       "      <td>26</td>\n",
       "    </tr>\n",
       "    <tr>\n",
       "      <th>18691</th>\n",
       "      <td>K. Sadłocha</td>\n",
       "      <td>50</td>\n",
       "      <td>17</td>\n",
       "      <td>Stal Mielec</td>\n",
       "      <td>26</td>\n",
       "    </tr>\n",
       "    <tr>\n",
       "      <th>17096</th>\n",
       "      <td>W. Faghir</td>\n",
       "      <td>56</td>\n",
       "      <td>16</td>\n",
       "      <td>Vejle Boldklub</td>\n",
       "      <td>25</td>\n",
       "    </tr>\n",
       "    <tr>\n",
       "      <th>18818</th>\n",
       "      <td>M. Kvinge</td>\n",
       "      <td>49</td>\n",
       "      <td>17</td>\n",
       "      <td>SK Brann</td>\n",
       "      <td>25</td>\n",
       "    </tr>\n",
       "    <tr>\n",
       "      <th>16076</th>\n",
       "      <td>O. Babuscu</td>\n",
       "      <td>58</td>\n",
       "      <td>16</td>\n",
       "      <td>FC Admira Wacker Mödling</td>\n",
       "      <td>25</td>\n",
       "    </tr>\n",
       "    <tr>\n",
       "      <th>15464</th>\n",
       "      <td>C. Riad</td>\n",
       "      <td>59</td>\n",
       "      <td>17</td>\n",
       "      <td>CE Sabadell FC</td>\n",
       "      <td>25</td>\n",
       "    </tr>\n",
       "    <tr>\n",
       "      <th>17095</th>\n",
       "      <td>D. Leyva</td>\n",
       "      <td>56</td>\n",
       "      <td>17</td>\n",
       "      <td>Seattle Sounders FC</td>\n",
       "      <td>25</td>\n",
       "    </tr>\n",
       "    <tr>\n",
       "      <th>18511</th>\n",
       "      <td>T. Gulliksen</td>\n",
       "      <td>51</td>\n",
       "      <td>16</td>\n",
       "      <td>Strømsgodset IF</td>\n",
       "      <td>25</td>\n",
       "    </tr>\n",
       "    <tr>\n",
       "      <th>18057</th>\n",
       "      <td>S. Auklend</td>\n",
       "      <td>53</td>\n",
       "      <td>17</td>\n",
       "      <td>Viking FK</td>\n",
       "      <td>25</td>\n",
       "    </tr>\n",
       "  </tbody>\n",
       "</table>\n",
       "</div>"
      ],
      "text/plain": [
       "         short_name  overall  age                 club_name  promising_score\n",
       "17807   R. Richards       54   16      West Bromwich Albion               26\n",
       "14689  B. Arrey-Mbi       60   17         Bayern München II               26\n",
       "18691   K. Sadłocha       50   17               Stal Mielec               26\n",
       "17096     W. Faghir       56   16            Vejle Boldklub               25\n",
       "18818     M. Kvinge       49   17                  SK Brann               25\n",
       "16076    O. Babuscu       58   16  FC Admira Wacker Mödling               25\n",
       "15464       C. Riad       59   17            CE Sabadell FC               25\n",
       "17095      D. Leyva       56   17       Seattle Sounders FC               25\n",
       "18511  T. Gulliksen       51   16           Strømsgodset IF               25\n",
       "18057    S. Auklend       53   17                 Viking FK               25"
      ]
     },
     "execution_count": 186,
     "metadata": {},
     "output_type": "execute_result"
    }
   ],
   "source": [
    "#in this two first lines\n",
    "#i create a new column that will set the difference between potential nd over\n",
    "df['promising_score'] = df['potential'] - df['overall']\n",
    "df['promising_score'].sort_values(ascending=False)\n",
    "top_promising_player = df[['short_name','overall','age','club_name','promising_score']].sort_values(by='promising_score', ascending=False)\n",
    "top_promising_player.head(10)"
   ]
  },
  {
   "cell_type": "markdown",
   "metadata": {},
   "source": [
    "#Is there any correlation with overall and release clause?"
   ]
  },
  {
   "cell_type": "code",
   "execution_count": null,
   "metadata": {},
   "outputs": [
    {
     "data": {
      "text/plain": [
       "<Axes: >"
      ]
     },
     "execution_count": 187,
     "metadata": {},
     "output_type": "execute_result"
    },
    {
     "data": {
      "image/png": "[encoded data removed]",
      "text/plain": [
       "<Figure size 640x480 with 2 Axes>"
      ]
     },
     "metadata": {},
     "output_type": "display_data"
    }
   ],
   "source": [
    "#lets stablish the corr first and build a graphic\n",
    "#corr onyl works if the two columns are clean and has the same datatype\n",
    "corr = df[['overall','release_clause_eur','wage_eur']].corr()\n",
    "sns.heatmap(corr, annot=True, cmap='coolwarm')\n",
    "\n",
    "#we can conclude that the correlation between release_clause and wage_eur is stronger\n",
    "#than the two others"
   ]
  },
  {
   "cell_type": "markdown",
   "metadata": {},
   "source": [
    "#What are the top 5 clubs have most valuable average list of players related to wage and release?"
   ]
  },
  {
   "cell_type": "code",
   "execution_count": null,
   "metadata": {},
   "outputs": [
    {
     "data": {
      "text/html": [
       "<div>\n",
       "<style scoped>\n",
       "    .dataframe tbody tr th:only-of-type {\n",
       "        vertical-align: middle;\n",
       "    }\n",
       "\n",
       "    .dataframe tbody tr th {\n",
       "        vertical-align: top;\n",
       "    }\n",
       "\n",
       "    .dataframe thead th {\n",
       "        text-align: right;\n",
       "    }\n",
       "</style>\n",
       "<table border=\"1\" class=\"dataframe\">\n",
       "  <thead>\n",
       "    <tr style=\"text-align: right;\">\n",
       "      <th></th>\n",
       "      <th>club_name</th>\n",
       "      <th>Average_Wage_clubs</th>\n",
       "      <th>Average_Release_clubs</th>\n",
       "    </tr>\n",
       "  </thead>\n",
       "  <tbody>\n",
       "    <tr>\n",
       "      <th>489</th>\n",
       "      <td>Real Madrid</td>\n",
       "      <td>151500.000000</td>\n",
       "      <td>5.059375e+07</td>\n",
       "    </tr>\n",
       "    <tr>\n",
       "      <th>214</th>\n",
       "      <td>FC Barcelona</td>\n",
       "      <td>143575.757576</td>\n",
       "      <td>4.707576e+07</td>\n",
       "    </tr>\n",
       "    <tr>\n",
       "      <th>386</th>\n",
       "      <td>Manchester City</td>\n",
       "      <td>114090.909091</td>\n",
       "      <td>4.340303e+07</td>\n",
       "    </tr>\n",
       "    <tr>\n",
       "      <th>374</th>\n",
       "      <td>Liverpool</td>\n",
       "      <td>95575.757576</td>\n",
       "      <td>4.860909e+07</td>\n",
       "    </tr>\n",
       "    <tr>\n",
       "      <th>387</th>\n",
       "      <td>Manchester United</td>\n",
       "      <td>89393.939394</td>\n",
       "      <td>3.361642e+07</td>\n",
       "    </tr>\n",
       "    <tr>\n",
       "      <th>330</th>\n",
       "      <td>Inter</td>\n",
       "      <td>84121.212121</td>\n",
       "      <td>2.663030e+07</td>\n",
       "    </tr>\n",
       "    <tr>\n",
       "      <th>216</th>\n",
       "      <td>FC Bayern München</td>\n",
       "      <td>81909.090909</td>\n",
       "      <td>4.745455e+07</td>\n",
       "    </tr>\n",
       "    <tr>\n",
       "      <th>131</th>\n",
       "      <td>Chelsea</td>\n",
       "      <td>81757.575758</td>\n",
       "      <td>3.643636e+07</td>\n",
       "    </tr>\n",
       "    <tr>\n",
       "      <th>612</th>\n",
       "      <td>Tottenham Hotspur</td>\n",
       "      <td>77030.303030</td>\n",
       "      <td>3.202727e+07</td>\n",
       "    </tr>\n",
       "    <tr>\n",
       "      <th>451</th>\n",
       "      <td>Paris Saint-Germain</td>\n",
       "      <td>73294.827586</td>\n",
       "      <td>3.972148e+07</td>\n",
       "    </tr>\n",
       "  </tbody>\n",
       "</table>\n",
       "</div>"
      ],
      "text/plain": [
       "               club_name  Average_Wage_clubs  Average_Release_clubs\n",
       "489          Real Madrid       151500.000000           5.059375e+07\n",
       "214         FC Barcelona       143575.757576           4.707576e+07\n",
       "386      Manchester City       114090.909091           4.340303e+07\n",
       "374            Liverpool        95575.757576           4.860909e+07\n",
       "387    Manchester United        89393.939394           3.361642e+07\n",
       "330                Inter        84121.212121           2.663030e+07\n",
       "216    FC Bayern München        81909.090909           4.745455e+07\n",
       "131              Chelsea        81757.575758           3.643636e+07\n",
       "612    Tottenham Hotspur        77030.303030           3.202727e+07\n",
       "451  Paris Saint-Germain        73294.827586           3.972148e+07"
      ]
     },
     "execution_count": 188,
     "metadata": {},
     "output_type": "execute_result"
    }
   ],
   "source": [
    "#first I am grouping all club names and then checking the total release and wage\n",
    "#and merging the data I've found to a lista where a I can sort and find the most valuable ones\n",
    "clubs_average = df.groupby('club_name').agg(Average_Wage_clubs=('wage_eur','mean'),Average_Release_clubs=('release_clause_eur','mean')).reset_index()\n",
    "clubs_average_sorted = clubs_average.sort_values(by=['Average_Wage_clubs','Average_Release_clubs'], ascending=False).head(10)\n",
    "clubs_average_sorted"
   ]
  },
  {
   "cell_type": "code",
   "execution_count": null,
   "metadata": {},
   "outputs": [
    {
     "name": "stderr",
     "output_type": "stream",
     "text": [
      "C:\\Users\\mathe\\AppData\\Local\\Temp\\ipykernel_4572\\809823620.py:4: FutureWarning: \n",
      "\n",
      "Passing `palette` without assigning `hue` is deprecated and will be removed in v0.14.0. Assign the `y` variable to `hue` and set `legend=False` for the same effect.\n",
      "\n",
      "  sns.barplot(x='Average_Wage_clubs',y='club_name',data=clubs_average_sorted, palette='cool')\n",
      "C:\\Users\\mathe\\AppData\\Local\\Temp\\ipykernel_4572\\809823620.py:10: FutureWarning: \n",
      "\n",
      "Passing `palette` without assigning `hue` is deprecated and will be removed in v0.14.0. Assign the `y` variable to `hue` and set `legend=False` for the same effect.\n",
      "\n",
      "  sns.barplot(x='Average_Release_clubs',y='club_name',data=clubs_average_sorted, palette='cool')\n"
     ]
    },
    {
     "data": {
      "image/png": "[encoded data removed]",
      "text/plain": [
       "<Figure size 1400x700 with 2 Axes>"
      ]
     },
     "metadata": {},
     "output_type": "display_data"
    }
   ],
   "source": [
    "#plot to show the average wage by the Clubs\n",
    "plt.figure(figsize=(14,7))\n",
    "plt.subplot(1,2,1)\n",
    "sns.barplot(x='Average_Wage_clubs',y='club_name',data=clubs_average_sorted, palette='cool')\n",
    "plt.title('Average Wage by Clubs')\n",
    "plt.xlabel('Wage')\n",
    "plt.ylabel('Clubs')\n",
    "#plot to show the average release by the Clubs\n",
    "plt.subplot(1,2,2)\n",
    "sns.barplot(x='Average_Release_clubs',y='club_name',data=clubs_average_sorted, palette='cool')\n",
    "plt.title('Average Release By Clubs')\n",
    "plt.xlabel('Release')\n",
    "plt.ylabel('')\n",
    "\n",
    "plt.tight_layout()\n",
    "\n"
   ]
  },
  {
   "cell_type": "markdown",
   "metadata": {},
   "source": [
    "how the leagues differ by finnancial investments?\n",
    "show the code and then the graphic"
   ]
  },
  {
   "cell_type": "code",
   "execution_count": null,
   "metadata": {},
   "outputs": [
    {
     "data": {
      "text/html": [
       "<div>\n",
       "<style scoped>\n",
       "    .dataframe tbody tr th:only-of-type {\n",
       "        vertical-align: middle;\n",
       "    }\n",
       "\n",
       "    .dataframe tbody tr th {\n",
       "        vertical-align: top;\n",
       "    }\n",
       "\n",
       "    .dataframe thead th {\n",
       "        text-align: right;\n",
       "    }\n",
       "</style>\n",
       "<table border=\"1\" class=\"dataframe\">\n",
       "  <thead>\n",
       "    <tr style=\"text-align: right;\">\n",
       "      <th></th>\n",
       "      <th>league_name</th>\n",
       "      <th>Average_wage_eur</th>\n",
       "      <th>average_release</th>\n",
       "    </tr>\n",
       "  </thead>\n",
       "  <tbody>\n",
       "    <tr>\n",
       "      <th>16</th>\n",
       "      <td>English Premier League</td>\n",
       "      <td>52149.082569</td>\n",
       "      <td>1.903717e+07</td>\n",
       "    </tr>\n",
       "    <tr>\n",
       "      <th>42</th>\n",
       "      <td>Spain Primera Division</td>\n",
       "      <td>31985.503876</td>\n",
       "      <td>1.716503e+07</td>\n",
       "    </tr>\n",
       "    <tr>\n",
       "      <th>25</th>\n",
       "      <td>Italian Serie A</td>\n",
       "      <td>27602.945736</td>\n",
       "      <td>1.061110e+07</td>\n",
       "    </tr>\n",
       "    <tr>\n",
       "      <th>20</th>\n",
       "      <td>German 1. Bundesliga</td>\n",
       "      <td>24073.996350</td>\n",
       "      <td>1.232873e+07</td>\n",
       "    </tr>\n",
       "    <tr>\n",
       "      <th>18</th>\n",
       "      <td>French Ligue 1</td>\n",
       "      <td>19445.583333</td>\n",
       "      <td>9.764237e+06</td>\n",
       "    </tr>\n",
       "    <tr>\n",
       "      <th>46</th>\n",
       "      <td>Turkish Süper Lig</td>\n",
       "      <td>12091.426146</td>\n",
       "      <td>3.404005e+06</td>\n",
       "    </tr>\n",
       "    <tr>\n",
       "      <th>30</th>\n",
       "      <td>Mexican Liga MX</td>\n",
       "      <td>11074.361493</td>\n",
       "      <td>3.128717e+06</td>\n",
       "    </tr>\n",
       "    <tr>\n",
       "      <th>13</th>\n",
       "      <td>English League Championship</td>\n",
       "      <td>9866.361072</td>\n",
       "      <td>3.322568e+06</td>\n",
       "    </tr>\n",
       "    <tr>\n",
       "      <th>5</th>\n",
       "      <td>Campeonato Brasileiro Série A</td>\n",
       "      <td>9341.666667</td>\n",
       "      <td>6.789156e+06</td>\n",
       "    </tr>\n",
       "    <tr>\n",
       "      <th>39</th>\n",
       "      <td>Saudi Abdul L. Jameel League</td>\n",
       "      <td>8580.459770</td>\n",
       "      <td>1.761007e+06</td>\n",
       "    </tr>\n",
       "  </tbody>\n",
       "</table>\n",
       "</div>"
      ],
      "text/plain": [
       "                      league_name  Average_wage_eur  average_release\n",
       "16         English Premier League      52149.082569     1.903717e+07\n",
       "42         Spain Primera Division      31985.503876     1.716503e+07\n",
       "25                Italian Serie A      27602.945736     1.061110e+07\n",
       "20           German 1. Bundesliga      24073.996350     1.232873e+07\n",
       "18                 French Ligue 1      19445.583333     9.764237e+06\n",
       "46              Turkish Süper Lig      12091.426146     3.404005e+06\n",
       "30                Mexican Liga MX      11074.361493     3.128717e+06\n",
       "13    English League Championship       9866.361072     3.322568e+06\n",
       "5   Campeonato Brasileiro Série A       9341.666667     6.789156e+06\n",
       "39   Saudi Abdul L. Jameel League       8580.459770     1.761007e+06"
      ]
     },
     "execution_count": 190,
     "metadata": {},
     "output_type": "execute_result"
    }
   ],
   "source": [
    "#im using agg method to get the mean of wage and release\n",
    "#after append to a variable, i just sort and select the first five\n",
    "league = df.groupby('league_name').agg(Average_wage_eur=('wage_eur','mean'),average_release=('release_clause_eur','mean')).reset_index()\n",
    "league_sorted = league.sort_values(['Average_wage_eur', 'average_release'], ascending=False).head(10)\n",
    "league_sorted"
   ]
  },
  {
   "cell_type": "code",
   "execution_count": null,
   "metadata": {},
   "outputs": [
    {
     "name": "stderr",
     "output_type": "stream",
     "text": [
      "C:\\Users\\mathe\\AppData\\Local\\Temp\\ipykernel_4572\\2201633709.py:5: FutureWarning: \n",
      "\n",
      "Passing `palette` without assigning `hue` is deprecated and will be removed in v0.14.0. Assign the `y` variable to `hue` and set `legend=False` for the same effect.\n",
      "\n",
      "  sns.barplot(x='Average_wage_eur',y='league_name', data=league_sorted.head(10), palette='cool')\n",
      "C:\\Users\\mathe\\AppData\\Local\\Temp\\ipykernel_4572\\2201633709.py:11: FutureWarning: \n",
      "\n",
      "Passing `palette` without assigning `hue` is deprecated and will be removed in v0.14.0. Assign the `y` variable to `hue` and set `legend=False` for the same effect.\n",
      "\n",
      "  sns.barplot(x='average_release',y='league_name',data=league_sorted.head(10), palette='cool')\n"
     ]
    },
    {
     "data": {
      "image/png": "[encoded data removed]",
      "text/plain": [
       "<Figure size 1400x700 with 2 Axes>"
      ]
     },
     "metadata": {},
     "output_type": "display_data"
    }
   ],
   "source": [
    "#creating a graphic that makes this visual\n",
    "#plot to show the average wage in Leagues\n",
    "plt.figure(figsize=(14,7))\n",
    "plt.subplot(1,2,1)\n",
    "sns.barplot(x='Average_wage_eur',y='league_name', data=league_sorted.head(10), palette='cool')\n",
    "plt.title('')\n",
    "plt.xlabel('Average Wage')\n",
    "plt.ylabel('Leagues')\n",
    "#plot to show the average release clause in Leagues\n",
    "plt.subplot(1,2,2)\n",
    "sns.barplot(x='average_release',y='league_name',data=league_sorted.head(10), palette='cool')\n",
    "plt.title('Average Release By Leagues')\n",
    "plt.xlabel('Average Release Clause')\n",
    "plt.ylabel('')\n",
    "plt.tight_layout()\n"
   ]
  },
  {
   "cell_type": "markdown",
   "metadata": {},
   "source": [
    "What are the most prevalent nationalities at the top of world football? make a graphic on top of it\n"
   ]
  },
  {
   "cell_type": "code",
   "execution_count": 247,
   "metadata": {},
   "outputs": [
    {
     "data": {
      "text/plain": [
       "0       Argentina\n",
       "1        Portugal\n",
       "2        Slovenia\n",
       "3          Poland\n",
       "4          Brazil\n",
       "          ...    \n",
       "2036      Uruguay\n",
       "2037         Togo\n",
       "2038      Ecuador\n",
       "2039      Ecuador\n",
       "2040      Uruguay\n",
       "Name: nationality, Length: 2041, dtype: object"
      ]
     },
     "execution_count": 247,
     "metadata": {},
     "output_type": "execute_result"
    }
   ],
   "source": [
    "#reaching the top 10 nationalitys\n",
    "#first I cut off the 90% of the data\n",
    "top_10_percent = df['overall'].quantile(0.9)\n",
    "#second I reach the players in df which satisfies the conditional\n",
    "top_players = df[df['overall'] >= top_10_percent]\n",
    "#third I just counted how many players are on top\n",
    "top_nationality = top_players['nationality'].value_counts().head(10)\n",
    "top_nationality "
   ]
  },
  {
   "cell_type": "code",
   "execution_count": 249,
   "metadata": {},
   "outputs": [
    {
     "name": "stderr",
     "output_type": "stream",
     "text": [
      "C:\\Users\\mathe\\AppData\\Local\\Temp\\ipykernel_4572\\145756950.py:3: FutureWarning: \n",
      "\n",
      "Passing `palette` without assigning `hue` is deprecated and will be removed in v0.14.0. Assign the `y` variable to `hue` and set `legend=False` for the same effect.\n",
      "\n",
      "  sns.countplot(y=top_players['nationality'], order=top_nationality.index, palette='cool')\n"
     ]
    },
    {
     "data": {
      "text/plain": [
       "<Axes: xlabel='count', ylabel='nationality'>"
      ]
     },
     "execution_count": 249,
     "metadata": {},
     "output_type": "execute_result"
    },
    {
     "data": {
      "image/png": "[encoded data removed]",
      "text/plain": [
       "<Figure size 1400x700 with 1 Axes>"
      ]
     },
     "metadata": {},
     "output_type": "display_data"
    }
   ],
   "source": [
    "#plot the best nationalities\n",
    "plt.figure(figsize=(14,7))\n",
    "\n",
    "sns.countplot(y=top_players['nationality'], order=top_nationality.index, palette='cool')\n"
   ]
  },
  {
   "cell_type": "markdown",
   "metadata": {},
   "source": [
    "##What are the football roles tagt are more worthy to play in means of wage and release"
   ]
  },
  {
   "cell_type": "code",
   "execution_count": 269,
   "metadata": {},
   "outputs": [
    {
     "data": {
      "text/html": [
       "<div>\n",
       "<style scoped>\n",
       "    .dataframe tbody tr th:only-of-type {\n",
       "        vertical-align: middle;\n",
       "    }\n",
       "\n",
       "    .dataframe tbody tr th {\n",
       "        vertical-align: top;\n",
       "    }\n",
       "\n",
       "    .dataframe thead th {\n",
       "        text-align: right;\n",
       "    }\n",
       "</style>\n",
       "<table border=\"1\" class=\"dataframe\">\n",
       "  <thead>\n",
       "    <tr style=\"text-align: right;\">\n",
       "      <th></th>\n",
       "      <th>team_position</th>\n",
       "      <th>Average_Wage_role</th>\n",
       "      <th>Average_Release_role</th>\n",
       "    </tr>\n",
       "  </thead>\n",
       "  <tbody>\n",
       "    <tr>\n",
       "      <th>3</th>\n",
       "      <td>CF</td>\n",
       "      <td>51423.076923</td>\n",
       "      <td>1.931646e+07</td>\n",
       "    </tr>\n",
       "    <tr>\n",
       "      <th>11</th>\n",
       "      <td>LF</td>\n",
       "      <td>21538.461538</td>\n",
       "      <td>1.180458e+07</td>\n",
       "    </tr>\n",
       "    <tr>\n",
       "      <th>22</th>\n",
       "      <td>RF</td>\n",
       "      <td>20961.538462</td>\n",
       "      <td>7.654545e+06</td>\n",
       "    </tr>\n",
       "    <tr>\n",
       "      <th>14</th>\n",
       "      <td>LW</td>\n",
       "      <td>18367.058824</td>\n",
       "      <td>1.209145e+07</td>\n",
       "    </tr>\n",
       "    <tr>\n",
       "      <th>25</th>\n",
       "      <td>RW</td>\n",
       "      <td>16165.588235</td>\n",
       "      <td>1.046587e+07</td>\n",
       "    </tr>\n",
       "    <tr>\n",
       "      <th>0</th>\n",
       "      <td>CAM</td>\n",
       "      <td>14398.601399</td>\n",
       "      <td>8.377044e+06</td>\n",
       "    </tr>\n",
       "    <tr>\n",
       "      <th>27</th>\n",
       "      <td>ST</td>\n",
       "      <td>14362.942478</td>\n",
       "      <td>7.802305e+06</td>\n",
       "    </tr>\n",
       "    <tr>\n",
       "      <th>2</th>\n",
       "      <td>CDM</td>\n",
       "      <td>14140.607735</td>\n",
       "      <td>7.771441e+06</td>\n",
       "    </tr>\n",
       "    <tr>\n",
       "      <th>24</th>\n",
       "      <td>RS</td>\n",
       "      <td>13251.339286</td>\n",
       "      <td>7.986204e+06</td>\n",
       "    </tr>\n",
       "    <tr>\n",
       "      <th>13</th>\n",
       "      <td>LS</td>\n",
       "      <td>13086.383929</td>\n",
       "      <td>8.481180e+06</td>\n",
       "    </tr>\n",
       "  </tbody>\n",
       "</table>\n",
       "</div>"
      ],
      "text/plain": [
       "   team_position  Average_Wage_role  Average_Release_role\n",
       "3             CF       51423.076923          1.931646e+07\n",
       "11            LF       21538.461538          1.180458e+07\n",
       "22            RF       20961.538462          7.654545e+06\n",
       "14            LW       18367.058824          1.209145e+07\n",
       "25            RW       16165.588235          1.046587e+07\n",
       "0            CAM       14398.601399          8.377044e+06\n",
       "27            ST       14362.942478          7.802305e+06\n",
       "2            CDM       14140.607735          7.771441e+06\n",
       "24            RS       13251.339286          7.986204e+06\n",
       "13            LS       13086.383929          8.481180e+06"
      ]
     },
     "execution_count": 269,
     "metadata": {},
     "output_type": "execute_result"
    }
   ],
   "source": [
    "#here we are grouping the players applying the methods mean in respective columns\n",
    "players_pos_finnance = df.groupby('team_position').agg(Average_Wage_role=('wage_eur','mean'),Average_Release_role=('release_clause_eur','mean')).reset_index()\n",
    "#this second part is basically  sorting to show the 10 positions that pays well\n",
    "players_pos_sorted = players_pos_finnance.sort_values(by=['Average_Wage_role','Average_Release_role'],ascending=False).head(10)\n",
    "players_pos_sorted"
   ]
  },
  {
   "cell_type": "code",
   "execution_count": 268,
   "metadata": {},
   "outputs": [
    {
     "name": "stderr",
     "output_type": "stream",
     "text": [
      "C:\\Users\\mathe\\AppData\\Local\\Temp\\ipykernel_4572\\179777330.py:4: FutureWarning: \n",
      "\n",
      "Passing `palette` without assigning `hue` is deprecated and will be removed in v0.14.0. Assign the `y` variable to `hue` and set `legend=False` for the same effect.\n",
      "\n",
      "  sns.barplot(x='Average_Wage_role',y='team_position',data=players_pos_sorted, palette='cool')\n",
      "C:\\Users\\mathe\\AppData\\Local\\Temp\\ipykernel_4572\\179777330.py:10: FutureWarning: \n",
      "\n",
      "Passing `palette` without assigning `hue` is deprecated and will be removed in v0.14.0. Assign the `y` variable to `hue` and set `legend=False` for the same effect.\n",
      "\n",
      "  sns.barplot(x='Average_Release_role', y='team_position', data=players_pos_sorted, palette='cool')\n"
     ]
    },
    {
     "data": {
      "text/plain": [
       "<Axes: xlabel='Average_Release_role', ylabel='team_position'>"
      ]
     },
     "execution_count": 268,
     "metadata": {},
     "output_type": "execute_result"
    },
    {
     "data": {
      "image/png": "[encoded data removed]",
      "text/plain": [
       "<Figure size 1400x700 with 2 Axes>"
      ]
     },
     "metadata": {},
     "output_type": "display_data"
    }
   ],
   "source": [
    "plt.figure(figsize=(14,7))\n",
    "#subplot to average wage\n",
    "plt.subplot(1,2,1)\n",
    "sns.barplot(x='Average_Wage_role',y='team_position',data=players_pos_sorted, palette='cool')\n",
    "plt.title('Average Wage By Roles')\n",
    "plt.ylabel('Roles')\n",
    "plt.xlabel('Wage')\n",
    "#subplot to average release role \n",
    "plt.subplot(1,2,2)\n",
    "sns.barplot(x='Average_Release_role', y='team_position', data=players_pos_sorted, palette='cool')\n",
    "plt.xlabel('Release Clause')\n",
    "plt.ylavel('')\n",
    "plt.title('Average Release Clauses By Roles')"
   ]
  }
 ],
 "metadata": {
  "kernelspec": {
   "display_name": "Python 3",
   "language": "python",
   "name": "python3"
  },
  "language_info": {
   "codemirror_mode": {
    "name": "ipython",
    "version": 3
   },
   "file_extension": ".py",
   "mimetype": "text/x-python",
   "name": "python",
   "nbconvert_exporter": "python",
   "pygments_lexer": "ipython3",
   "version": "3.12.0"
  }
 },
 "nbformat": 4,
 "nbformat_minor": 2
}
